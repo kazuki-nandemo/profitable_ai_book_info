{
  "cells": [
    {
      "cell_type": "markdown",
      "metadata": {
        "id": "ORsio2qVD3Rl"
      },
      "source": [
        "## 5.5 顧客層に応じた販売戦略(クラスタリング、次元圧縮)\n"
      ]
    },
    {
      "cell_type": "markdown",
      "source": [
        "### 2023-1105追加分\n",
        "Google Colabで過去のバージョンが動くようにします  \n",
        "scikit-lean: 0.23.2"
      ],
      "metadata": {
        "id": "nGCDu2U9GvKg"
      }
    },
    {
      "cell_type": "markdown",
      "source": [
        "#### 環境変数設定"
      ],
      "metadata": {
        "id": "w86ceiI6HrMv"
      }
    },
    {
      "cell_type": "code",
      "source": [
        "import os\n",
        "path_org = os.environ['PATH']\n",
        "path_38 = '/usr/local_py38'\n",
        "path_38bin = f'{path_38}/bin'\n",
        "os.environ['PATH'] = f'{path_38bin}:{path_org}'\n",
        "\n",
        "import sys\n",
        "sys.path.append(f'{path_38}/lib/python3.8/site-packages')"
      ],
      "metadata": {
        "id": "kd9CKqXUGsqF"
      },
      "execution_count": 2,
      "outputs": []
    },
    {
      "cell_type": "markdown",
      "source": [
        "#### conda導入"
      ],
      "metadata": {
        "id": "UAkeB8pQlvwS"
      }
    },
    {
      "cell_type": "code",
      "source": [
        "!wget -O mini.sh https://repo.anaconda.com/miniconda/Miniconda3-py38_4.8.2-Linux-x86_64.sh | tail -n 1\n",
        "!chmod +x mini.sh\n",
        "!bash ./mini.sh -b -f -p $path_38 | tail -n 1"
      ],
      "metadata": {
        "colab": {
          "base_uri": "https://localhost:8080/"
        },
        "id": "Kvx0Co2EGs0x",
        "outputId": "f5d9d6bb-be7e-4709-932f-7a35ce28012e"
      },
      "execution_count": 2,
      "outputs": [
        {
          "output_type": "stream",
          "name": "stdout",
          "text": [
            "--2023-11-05 01:03:53--  https://repo.anaconda.com/miniconda/Miniconda3-py38_4.8.2-Linux-x86_64.sh\n",
            "Resolving repo.anaconda.com (repo.anaconda.com)... 104.16.131.3, 104.16.130.3, 2606:4700::6810:8203, ...\n",
            "Connecting to repo.anaconda.com (repo.anaconda.com)|104.16.131.3|:443... connected.\n",
            "HTTP request sent, awaiting response... 200 OK\n",
            "Length: 89817099 (86M) [application/x-sh]\n",
            "Saving to: ‘mini.sh’\n",
            "\n",
            "mini.sh             100%[===================>]  85.66M   134MB/s    in 0.6s    \n",
            "\n",
            "2023-11-05 01:03:54 (134 MB/s) - ‘mini.sh’ saved [89817099/89817099]\n",
            "\n",
            "    in Miniconda3: /usr/local_py38\n"
          ]
        }
      ]
    },
    {
      "cell_type": "code",
      "source": [
        "# 結果確認\n",
        "!which conda\n",
        "!which pip"
      ],
      "metadata": {
        "colab": {
          "base_uri": "https://localhost:8080/"
        },
        "id": "Xw9wBB1EGs5c",
        "outputId": "ea457f00-84b5-4905-c846-4d30542848ad"
      },
      "execution_count": 3,
      "outputs": [
        {
          "output_type": "stream",
          "name": "stdout",
          "text": [
            "/usr/local_py38/bin/conda\n",
            "/usr/local_py38/bin/pip\n"
          ]
        }
      ]
    },
    {
      "cell_type": "markdown",
      "source": [
        "#### ライブラリ追加導入"
      ],
      "metadata": {
        "id": "5PB2WgH1mD4e"
      }
    },
    {
      "cell_type": "code",
      "source": [
        "!conda install -q -y conda python=3.8 --prefix $path_38 | tail -n 1\n",
        "!conda install -q -y jupyter --prefix $path_38 | tail -n 1\n",
        "!conda install -q -y google-colab -c conda-forge --prefix $path_38 | tail -n 1"
      ],
      "metadata": {
        "colab": {
          "base_uri": "https://localhost:8080/"
        },
        "id": "UHZHiQTjGs9r",
        "outputId": "21cff53e-a5df-488e-b0e9-853acef102e2"
      },
      "execution_count": 4,
      "outputs": [
        {
          "output_type": "stream",
          "name": "stdout",
          "text": [
            "Executing transaction: ...working... done\n",
            "Executing transaction: ...working... done\n",
            "Executing transaction: ...working... done\n"
          ]
        }
      ]
    },
    {
      "cell_type": "markdown",
      "source": [
        "#### カーネル追加"
      ],
      "metadata": {
        "id": "ZsUvv6j7njCI"
      }
    },
    {
      "cell_type": "code",
      "source": [
        "!python -m ipykernel install --name \"py38\" --user\n",
        "# 結果確認\n",
        "!jupyter-kernelspec list"
      ],
      "metadata": {
        "colab": {
          "base_uri": "https://localhost:8080/"
        },
        "id": "fxKL4r-RGtBz",
        "outputId": "c38cf7d9-30ff-4ff6-8074-cac221cda26f"
      },
      "execution_count": 4,
      "outputs": [
        {
          "output_type": "stream",
          "name": "stdout",
          "text": [
            "Installed kernelspec py38 in /root/.local/share/jupyter/kernels/py38\n",
            "Available kernels:\n",
            "  py38       /root/.local/share/jupyter/kernels/py38\n",
            "  python3    /usr/local_py38/share/jupyter/kernels/python3\n",
            "  ir         /usr/local/share/jupyter/kernels/ir\n"
          ]
        }
      ]
    },
    {
      "cell_type": "markdown",
      "source": [
        "#### カーネル切替え"
      ],
      "metadata": {
        "id": "RX4-G98Gny6y"
      }
    },
    {
      "cell_type": "code",
      "source": [
        " # UI経由で実施\n",
        " # メニューから「ランタイム」「ランタイムのタイプを変更」\n",
        " # ランタイムのタイプ: 「Python 3」→「py38」 で「保存」"
      ],
      "metadata": {
        "id": "_QpsP3ZBGtFs"
      },
      "execution_count": null,
      "outputs": []
    },
    {
      "cell_type": "code",
      "source": [
        "# 新カーネルの動作テスト\n",
        "1+1"
      ],
      "metadata": {
        "colab": {
          "base_uri": "https://localhost:8080/"
        },
        "id": "7-f9XeKwGtJJ",
        "outputId": "d958c1d7-558b-48a0-e7e0-92fdb6cbc145"
      },
      "execution_count": 1,
      "outputs": [
        {
          "output_type": "execute_result",
          "data": {
            "text/plain": [
              "2"
            ]
          },
          "metadata": {},
          "execution_count": 1
        }
      ]
    },
    {
      "cell_type": "markdown",
      "source": [
        " #### 環境変数再設定"
      ],
      "metadata": {
        "id": "rYU0Xx1EoGjR"
      }
    },
    {
      "cell_type": "code",
      "source": [
        "# sys.pathの設定を確認\n",
        "# 次の設定は不要\n",
        "# sys.path.append(f'{path_38}/lib/python3.8/site-packages')\n",
        "\n",
        "import sys\n",
        "print(f'Python Version: {sys.version}')\n",
        "for path in sys.path:\n",
        "    print(path)"
      ],
      "metadata": {
        "colab": {
          "base_uri": "https://localhost:8080/"
        },
        "id": "VP6hCa7SGtQ4",
        "outputId": "a9169d91-b41f-4214-fe40-e0329c6c313b"
      },
      "execution_count": 2,
      "outputs": [
        {
          "output_type": "stream",
          "name": "stdout",
          "text": [
            "Python Version: 3.8.18 (default, Sep 11 2023, 13:20:55) \n",
            "[GCC 11.2.0]\n",
            "/content\n",
            "/env/python\n",
            "/usr/local_py38/lib/python38.zip\n",
            "/usr/local_py38/lib/python3.8\n",
            "/usr/local_py38/lib/python3.8/lib-dynload\n",
            "\n",
            "/usr/local_py38/lib/python3.8/site-packages\n"
          ]
        }
      ]
    },
    {
      "cell_type": "code",
      "source": [
        "import os\n",
        "path_org = os.environ['PATH']\n",
        "path_38 = '/usr/local_py38'\n",
        "path_38bin = f'{path_38}/bin'\n",
        "os.environ['PATH'] = f'{path_38bin}:{path_org}'\n",
        "# 設定確認\n",
        "print(os.environ['PATH'])"
      ],
      "metadata": {
        "colab": {
          "base_uri": "https://localhost:8080/"
        },
        "id": "kw9edl2SGtM_",
        "outputId": "8d3917b3-1a68-43ec-ab9d-7b649a7c5804"
      },
      "execution_count": 3,
      "outputs": [
        {
          "output_type": "stream",
          "name": "stdout",
          "text": [
            "/usr/local_py38/bin:/opt/bin:/usr/local/nvidia/bin:/usr/local/cuda/bin:/usr/local/sbin:/usr/local/bin:/usr/sbin:/usr/bin:/sbin:/bin:/tools/node/bin:/tools/google-cloud-sdk/bin\n"
          ]
        }
      ]
    },
    {
      "cell_type": "markdown",
      "source": [
        "#### ライブラリ追加導入#2"
      ],
      "metadata": {
        "id": "sX2pO2QxpWq2"
      }
    },
    {
      "cell_type": "code",
      "source": [
        "!conda install -q -y scikit-learn==0.23.2 --prefix $path_38 | tail -n 1\n",
        "!conda install -q -y matplotlib --prefix $path_38 | tail -n 1"
      ],
      "metadata": {
        "colab": {
          "base_uri": "https://localhost:8080/"
        },
        "id": "IlTrOEf-GtUi",
        "outputId": "a548fac2-e5cf-442b-adbb-a49bbdb35a64"
      },
      "execution_count": 4,
      "outputs": [
        {
          "output_type": "stream",
          "name": "stdout",
          "text": [
            "Executing transaction: ...working... done\n",
            "Executing transaction: ...working... done\n"
          ]
        }
      ]
    },
    {
      "cell_type": "markdown",
      "source": [
        "#### バージョン確認"
      ],
      "metadata": {
        "id": "lcg-I4I8pnya"
      }
    },
    {
      "cell_type": "code",
      "source": [
        "import sklearn\n",
        "print(sklearn.__version__)\n",
        "from sklearn.cluster import KMeans"
      ],
      "metadata": {
        "colab": {
          "base_uri": "https://localhost:8080/"
        },
        "id": "wWOm0oWZGtZu",
        "outputId": "e76204d1-8567-4b34-c961-1214edda3146"
      },
      "execution_count": 5,
      "outputs": [
        {
          "output_type": "stream",
          "name": "stdout",
          "text": [
            "0.23.2\n"
          ]
        }
      ]
    },
    {
      "cell_type": "markdown",
      "metadata": {
        "id": "060CpHNuD3Rm"
      },
      "source": [
        "### 共通事前処理"
      ]
    },
    {
      "cell_type": "code",
      "execution_count": 7,
      "metadata": {
        "id": "euFbjnbRD3Rn",
        "colab": {
          "base_uri": "https://localhost:8080/"
        },
        "outputId": "cfff1d77-35ec-4338-eda6-e135a1e1bce3"
      },
      "outputs": [
        {
          "output_type": "stream",
          "name": "stdout",
          "text": [
            "Successfully installed japanize-matplotlib-1.1.3\n"
          ]
        }
      ],
      "source": [
        "# 日本語化ライブラリ導入\n",
        "!pip install japanize-matplotlib | tail -n 1"
      ]
    },
    {
      "cell_type": "code",
      "execution_count": 8,
      "metadata": {
        "id": "Lyt_vTxUD3Rq"
      },
      "outputs": [],
      "source": [
        "# 共通事前処理\n",
        "\n",
        "# 余分なワーニングを非表示にする\n",
        "import warnings\n",
        "warnings.filterwarnings('ignore')\n",
        "\n",
        "# 必要ライブラリのimport\n",
        "import pandas as pd\n",
        "import numpy as np\n",
        "import matplotlib.pyplot as plt\n",
        "\n",
        "# matplotlib日本語化対応\n",
        "import japanize_matplotlib\n",
        "\n",
        "# データフレーム表示用関数\n",
        "from IPython.display import display\n",
        "\n",
        "# 表示オプション調整\n",
        "# numpyの浮動小数点の表示精度\n",
        "np.set_printoptions(suppress=True, precision=4)\n",
        "\n",
        "# pandasでの浮動小数点の表示精度\n",
        "pd.options.display.float_format = '{:.4f}'.format\n",
        "\n",
        "# データフレームですべての項目を表示\n",
        "pd.set_option(\"display.max_columns\",None)\n",
        "\n",
        "# グラフのデフォルトフォント指定\n",
        "plt.rcParams[\"font.size\"] = 14\n",
        "\n",
        "# 乱数の種\n",
        "random_seed = 123"
      ]
    },
    {
      "cell_type": "markdown",
      "metadata": {
        "id": "HQlDUVzRD3Rs"
      },
      "source": [
        "### オリジナルURL\n",
        "Wholesale customers Data Set\n",
        "\n",
        "https://archive.ics.uci.edu/ml/datasets/wholesale+customers"
      ]
    },
    {
      "cell_type": "markdown",
      "metadata": {
        "id": "iB_ocZwOD3Rt"
      },
      "source": [
        "### 5.5.4 データ読み込みからデータ確認まで"
      ]
    },
    {
      "cell_type": "markdown",
      "metadata": {
        "id": "zNKorSZmD3Rt"
      },
      "source": [
        "#### データ読み込み"
      ]
    },
    {
      "cell_type": "code",
      "execution_count": 9,
      "metadata": {
        "id": "TsPBG-ECD3Ru"
      },
      "outputs": [],
      "source": [
        "# データ読み込み\n",
        "url = 'https://archive.ics.uci.edu/ml/machine-learning-databases\\\n",
        "/00292/Wholesale%20customers%20data.csv'\n",
        "\n",
        "df = pd.read_csv(url)\n",
        "\n",
        "# 日本語に変更\n",
        "columns = ['販売チャネル', '地域', '生鮮食品', '乳製品', '食料品',\n",
        "    '冷凍食品', '洗剤_紙製品', '総菜']\n",
        "df.columns = columns"
      ]
    },
    {
      "cell_type": "markdown",
      "metadata": {
        "id": "oTLRFKx3D3Rw"
      },
      "source": [
        "#### データ確認"
      ]
    },
    {
      "cell_type": "code",
      "execution_count": 10,
      "metadata": {
        "id": "gKvGiyRXD3Rw",
        "colab": {
          "base_uri": "https://localhost:8080/",
          "height": 223
        },
        "outputId": "65721d28-57f5-474e-aa2c-e05eb696ea1b"
      },
      "outputs": [
        {
          "output_type": "display_data",
          "data": {
            "text/plain": [
              "   販売チャネル  地域   生鮮食品   乳製品   食料品  冷凍食品  洗剤_紙製品    総菜\n",
              "0       2   3  12669  9656  7561   214    2674  1338\n",
              "1       2   3   7057  9810  9568  1762    3293  1776\n",
              "2       2   3   6353  8808  7684  2405    3516  7844\n",
              "3       1   3  13265  1196  4221  6404     507  1788\n",
              "4       2   3  22615  5410  7198  3915    1777  5185"
            ],
            "text/html": [
              "<div>\n",
              "<style scoped>\n",
              "    .dataframe tbody tr th:only-of-type {\n",
              "        vertical-align: middle;\n",
              "    }\n",
              "\n",
              "    .dataframe tbody tr th {\n",
              "        vertical-align: top;\n",
              "    }\n",
              "\n",
              "    .dataframe thead th {\n",
              "        text-align: right;\n",
              "    }\n",
              "</style>\n",
              "<table border=\"1\" class=\"dataframe\">\n",
              "  <thead>\n",
              "    <tr style=\"text-align: right;\">\n",
              "      <th></th>\n",
              "      <th>販売チャネル</th>\n",
              "      <th>地域</th>\n",
              "      <th>生鮮食品</th>\n",
              "      <th>乳製品</th>\n",
              "      <th>食料品</th>\n",
              "      <th>冷凍食品</th>\n",
              "      <th>洗剤_紙製品</th>\n",
              "      <th>総菜</th>\n",
              "    </tr>\n",
              "  </thead>\n",
              "  <tbody>\n",
              "    <tr>\n",
              "      <th>0</th>\n",
              "      <td>2</td>\n",
              "      <td>3</td>\n",
              "      <td>12669</td>\n",
              "      <td>9656</td>\n",
              "      <td>7561</td>\n",
              "      <td>214</td>\n",
              "      <td>2674</td>\n",
              "      <td>1338</td>\n",
              "    </tr>\n",
              "    <tr>\n",
              "      <th>1</th>\n",
              "      <td>2</td>\n",
              "      <td>3</td>\n",
              "      <td>7057</td>\n",
              "      <td>9810</td>\n",
              "      <td>9568</td>\n",
              "      <td>1762</td>\n",
              "      <td>3293</td>\n",
              "      <td>1776</td>\n",
              "    </tr>\n",
              "    <tr>\n",
              "      <th>2</th>\n",
              "      <td>2</td>\n",
              "      <td>3</td>\n",
              "      <td>6353</td>\n",
              "      <td>8808</td>\n",
              "      <td>7684</td>\n",
              "      <td>2405</td>\n",
              "      <td>3516</td>\n",
              "      <td>7844</td>\n",
              "    </tr>\n",
              "    <tr>\n",
              "      <th>3</th>\n",
              "      <td>1</td>\n",
              "      <td>3</td>\n",
              "      <td>13265</td>\n",
              "      <td>1196</td>\n",
              "      <td>4221</td>\n",
              "      <td>6404</td>\n",
              "      <td>507</td>\n",
              "      <td>1788</td>\n",
              "    </tr>\n",
              "    <tr>\n",
              "      <th>4</th>\n",
              "      <td>2</td>\n",
              "      <td>3</td>\n",
              "      <td>22615</td>\n",
              "      <td>5410</td>\n",
              "      <td>7198</td>\n",
              "      <td>3915</td>\n",
              "      <td>1777</td>\n",
              "      <td>5185</td>\n",
              "    </tr>\n",
              "  </tbody>\n",
              "</table>\n",
              "</div>"
            ]
          },
          "metadata": {}
        },
        {
          "output_type": "stream",
          "name": "stdout",
          "text": [
            "(440, 8)\n"
          ]
        }
      ],
      "source": [
        "# データ内容確認\n",
        "display(df.head())\n",
        "\n",
        "# サイズ確認\n",
        "print(df.shape)"
      ]
    },
    {
      "cell_type": "code",
      "execution_count": 11,
      "metadata": {
        "id": "Z1WIzw_tD3Rz",
        "colab": {
          "base_uri": "https://localhost:8080/"
        },
        "outputId": "63c41c30-619b-4c15-bce1-4c8c179e2ced"
      },
      "outputs": [
        {
          "output_type": "stream",
          "name": "stdout",
          "text": [
            "販売チャネル    0\n",
            "地域        0\n",
            "生鮮食品      0\n",
            "乳製品       0\n",
            "食料品       0\n",
            "冷凍食品      0\n",
            "洗剤_紙製品    0\n",
            "総菜        0\n",
            "dtype: int64\n"
          ]
        }
      ],
      "source": [
        "# 欠損値確認\n",
        "print(df.isnull().sum())"
      ]
    },
    {
      "cell_type": "code",
      "execution_count": 12,
      "metadata": {
        "id": "j-2hfTBnD3R1",
        "colab": {
          "base_uri": "https://localhost:8080/"
        },
        "outputId": "e1f07fd9-4e03-4a1a-d842-3a44480cf15c"
      },
      "outputs": [
        {
          "output_type": "stream",
          "name": "stdout",
          "text": [
            "1    298\n",
            "2    142\n",
            "Name: 販売チャネル, dtype: int64\n",
            "\n",
            "3    316\n",
            "1     77\n",
            "2     47\n",
            "Name: 地域, dtype: int64\n"
          ]
        }
      ],
      "source": [
        "# 販売チャネルのコード値確認\n",
        "print(df['販売チャネル'].value_counts())\n",
        "print()\n",
        "\n",
        "# 地域のコード値確認\n",
        "print(df['地域'].value_counts())"
      ]
    },
    {
      "cell_type": "markdown",
      "metadata": {
        "id": "zSMqakKJD3R3"
      },
      "source": [
        "#### 販売チャネルのコード値の意味\n",
        "1.  Horeca(ホテル・レストラン・カフェ) 298\n",
        "2. Retail(小売り) 142"
      ]
    },
    {
      "cell_type": "markdown",
      "metadata": {
        "id": "aLARYhrsD3R4"
      },
      "source": [
        "#### 地域のコード値の意味\n",
        "1.  Lisbon(リスボン) 77\n",
        "2. Oporto(オプルトまたはポルト) 47\n",
        "3. Other Region(その他) 316\n",
        "\n"
      ]
    },
    {
      "cell_type": "markdown",
      "metadata": {
        "id": "wS0QnunZD3R4"
      },
      "source": [
        "#### ヒストグラム表示"
      ]
    },
    {
      "cell_type": "code",
      "execution_count": 13,
      "metadata": {
        "id": "e7El541nD3R5",
        "scrolled": false,
        "colab": {
          "base_uri": "https://localhost:8080/",
          "height": 795
        },
        "outputId": "ef2a786a-2dfc-4310-b1ad-bdb3524a5046"
      },
      "outputs": [
        {
          "output_type": "display_data",
          "data": {
            "text/plain": [
              "<Figure size 800x800 with 6 Axes>"
            ],
            "image/png": "[encoded data removed]"
          },
          "metadata": {}
        }
      ],
      "source": [
        "# 販売チャネルと地域を落としたデータを作る\n",
        "df2 = df.drop(['販売チャネル', '地域'], axis=1)\n",
        "\n",
        "# 分析対象項目のヒストグラム表示\n",
        "from pylab import rcParams\n",
        "rcParams['figure.figsize'] = (8, 8)\n",
        "df2.hist(bins=20)\n",
        "plt.tight_layout()\n",
        "plt.show()"
      ]
    },
    {
      "cell_type": "markdown",
      "metadata": {
        "id": "qI5f31AtD3R7"
      },
      "source": [
        "### 5.5.5 クラスタリングの実施"
      ]
    },
    {
      "cell_type": "code",
      "execution_count": 14,
      "metadata": {
        "id": "CfEPfY8cD3R7"
      },
      "outputs": [],
      "source": [
        "# データ前処理とデータ分割は不要\n",
        "\n",
        "# アルゴリズムの選択\n",
        "from sklearn.cluster import KMeans\n",
        "\n",
        "# グループ数を定義\n",
        "clusters=4\n",
        "\n",
        "# アルゴリズムの定義\n",
        "algorithm = KMeans(n_clusters=clusters,\n",
        "    random_state=random_seed)"
      ]
    },
    {
      "cell_type": "code",
      "execution_count": 15,
      "metadata": {
        "id": "xfGbHcwoD3R9",
        "colab": {
          "base_uri": "https://localhost:8080/"
        },
        "outputId": "651c1730-f260-470e-b1eb-0ed005fc332d"
      },
      "outputs": [
        {
          "output_type": "stream",
          "name": "stdout",
          "text": [
            "[3 3 3 3 0 3 3 3 3 1 1 3 0 1 0 3 1 3 3 3]\n"
          ]
        }
      ],
      "source": [
        "# 学習、予測の実施\n",
        "y_pred = algorithm.fit_predict(df2)\n",
        "\n",
        "# 結果の一部確認\n",
        "print(y_pred[:20])"
      ]
    },
    {
      "cell_type": "markdown",
      "metadata": {
        "id": "mZxGwWUDD3R_"
      },
      "source": [
        "### 5.5.6 クラスタリング結果の分析"
      ]
    },
    {
      "cell_type": "markdown",
      "metadata": {
        "id": "vPbPUf85D3R_"
      },
      "source": [
        "#### グループ別平均値計算"
      ]
    },
    {
      "cell_type": "code",
      "execution_count": 16,
      "metadata": {
        "id": "q24sMbpvD3SA",
        "colab": {
          "base_uri": "https://localhost:8080/",
          "height": 174
        },
        "outputId": "9629a9e9-c3e2-4df3-ac2d-831e36827d14"
      },
      "outputs": [
        {
          "output_type": "display_data",
          "data": {
            "text/plain": [
              "        生鮮食品        乳製品        食料品      冷凍食品     洗剤_紙製品        総菜\n",
              "0 36156.3898  6123.6441  6366.7797 6811.1186  1050.0169 3090.0508\n",
              "1  5134.2198 11398.0769 17848.7582 1562.7802  7768.9231 1900.2418\n",
              "2 20031.2857 38084.0000 56126.1429 2564.5714 27644.5714 2548.1429\n",
              "3  8973.3958  3128.0883  3907.4276 2790.2085  1079.2297 1052.5477"
            ],
            "text/html": [
              "<div>\n",
              "<style scoped>\n",
              "    .dataframe tbody tr th:only-of-type {\n",
              "        vertical-align: middle;\n",
              "    }\n",
              "\n",
              "    .dataframe tbody tr th {\n",
              "        vertical-align: top;\n",
              "    }\n",
              "\n",
              "    .dataframe thead th {\n",
              "        text-align: right;\n",
              "    }\n",
              "</style>\n",
              "<table border=\"1\" class=\"dataframe\">\n",
              "  <thead>\n",
              "    <tr style=\"text-align: right;\">\n",
              "      <th></th>\n",
              "      <th>生鮮食品</th>\n",
              "      <th>乳製品</th>\n",
              "      <th>食料品</th>\n",
              "      <th>冷凍食品</th>\n",
              "      <th>洗剤_紙製品</th>\n",
              "      <th>総菜</th>\n",
              "    </tr>\n",
              "  </thead>\n",
              "  <tbody>\n",
              "    <tr>\n",
              "      <th>0</th>\n",
              "      <td>36156.3898</td>\n",
              "      <td>6123.6441</td>\n",
              "      <td>6366.7797</td>\n",
              "      <td>6811.1186</td>\n",
              "      <td>1050.0169</td>\n",
              "      <td>3090.0508</td>\n",
              "    </tr>\n",
              "    <tr>\n",
              "      <th>1</th>\n",
              "      <td>5134.2198</td>\n",
              "      <td>11398.0769</td>\n",
              "      <td>17848.7582</td>\n",
              "      <td>1562.7802</td>\n",
              "      <td>7768.9231</td>\n",
              "      <td>1900.2418</td>\n",
              "    </tr>\n",
              "    <tr>\n",
              "      <th>2</th>\n",
              "      <td>20031.2857</td>\n",
              "      <td>38084.0000</td>\n",
              "      <td>56126.1429</td>\n",
              "      <td>2564.5714</td>\n",
              "      <td>27644.5714</td>\n",
              "      <td>2548.1429</td>\n",
              "    </tr>\n",
              "    <tr>\n",
              "      <th>3</th>\n",
              "      <td>8973.3958</td>\n",
              "      <td>3128.0883</td>\n",
              "      <td>3907.4276</td>\n",
              "      <td>2790.2085</td>\n",
              "      <td>1079.2297</td>\n",
              "      <td>1052.5477</td>\n",
              "    </tr>\n",
              "  </tbody>\n",
              "</table>\n",
              "</div>"
            ]
          },
          "metadata": {}
        }
      ],
      "source": [
        "# グループごとの平均値計算\n",
        "df_cluster = df2.groupby(y_pred).mean()\n",
        "display(df_cluster)"
      ]
    },
    {
      "cell_type": "markdown",
      "metadata": {
        "id": "eKzdYkL8D3SC"
      },
      "source": [
        "#### グループ別グラフ表示"
      ]
    },
    {
      "cell_type": "code",
      "execution_count": 17,
      "metadata": {
        "id": "wVb9iCt0D3SC",
        "colab": {
          "base_uri": "https://localhost:8080/",
          "height": 520
        },
        "outputId": "6e342f53-64c0-4fc4-872f-7d8264332701"
      },
      "outputs": [
        {
          "output_type": "display_data",
          "data": {
            "text/plain": [
              "<Figure size 1000x600 with 1 Axes>"
            ],
            "image/png": "[encoded data removed]"
          },
          "metadata": {}
        }
      ],
      "source": [
        "# グループ別の棒グラフ表示\n",
        "df_cluster.plot(kind='bar',stacked=True,\n",
        "    figsize=(10, 6),colormap='jet')\n",
        "plt.show()"
      ]
    },
    {
      "cell_type": "markdown",
      "metadata": {
        "id": "eFg89g0wD3SE"
      },
      "source": [
        "#### 分析結果\n",
        "\n",
        "* **0**: 生鮮食品中心\n",
        "* **1**: 食料品中心\n",
        "* **2**: 大量購入\n",
        "* **3**: 少量購入"
      ]
    },
    {
      "cell_type": "markdown",
      "metadata": {
        "id": "QGmD9ipaD3SF"
      },
      "source": [
        "#### グループと販売チャネル・地域との関係"
      ]
    },
    {
      "cell_type": "code",
      "execution_count": 18,
      "metadata": {
        "id": "vzq4FBEHD3SF",
        "scrolled": false,
        "colab": {
          "base_uri": "https://localhost:8080/",
          "height": 1000
        },
        "outputId": "ba2041eb-4685-442f-ddba-fedc468a98bd"
      },
      "outputs": [
        {
          "output_type": "stream",
          "name": "stdout",
          "text": [
            "==== グループ0 ====\n"
          ]
        },
        {
          "output_type": "display_data",
          "data": {
            "text/plain": [
              "<Figure size 600x300 with 2 Axes>"
            ],
            "image/png": "[encoded data removed]"
          },
          "metadata": {}
        },
        {
          "output_type": "stream",
          "name": "stdout",
          "text": [
            "==== グループ1 ====\n"
          ]
        },
        {
          "output_type": "display_data",
          "data": {
            "text/plain": [
              "<Figure size 600x300 with 2 Axes>"
            ],
            "image/png": "[encoded data removed]"
          },
          "metadata": {}
        },
        {
          "output_type": "stream",
          "name": "stdout",
          "text": [
            "==== グループ2 ====\n"
          ]
        },
        {
          "output_type": "display_data",
          "data": {
            "text/plain": [
              "<Figure size 600x300 with 2 Axes>"
            ],
            "image/png": "[encoded data removed]"
          },
          "metadata": {}
        },
        {
          "output_type": "stream",
          "name": "stdout",
          "text": [
            "==== グループ3 ====\n"
          ]
        },
        {
          "output_type": "display_data",
          "data": {
            "text/plain": [
              "<Figure size 600x300 with 2 Axes>"
            ],
            "image/png": "[encoded data removed]"
          },
          "metadata": {}
        }
      ],
      "source": [
        "# クラスタと、チャネル・地域の関係を調べる\n",
        "\n",
        "# 販売チャネルと地域のみをdf3に抽出\n",
        "df3 = df[['販売チャネル', '地域']]\n",
        "\n",
        "# グラフの大きさ設定\n",
        "rcParams['figure.figsize'] = (6,3)\n",
        "\n",
        "# グループごとのグラフ表示\n",
        "for i in range(clusters):\n",
        "    fig, ax = plt.subplots()\n",
        "    w = df3[y_pred==i]\n",
        "    print(f'==== グループ{i} ====')\n",
        "    w.hist(ax=ax)\n",
        "    plt.tight_layout()\n",
        "    plt.show()"
      ]
    },
    {
      "cell_type": "markdown",
      "metadata": {
        "id": "z3iYpMSZD3SH"
      },
      "source": [
        "#### 分析結果\n",
        "グループ0(生鮮)とグループ3(少量)は、チャネル1(Horeca)と関連が深い。   \n",
        "グループ1(食品)とグループ2(大量)は、チャネル2(Retail)と関連が深い。  \n",
        "地域とグループの関連は時に見いだせない。"
      ]
    },
    {
      "cell_type": "markdown",
      "metadata": {
        "id": "kPwgiwbtD3SI"
      },
      "source": [
        "### 5.5.7 次元圧縮の実施"
      ]
    },
    {
      "cell_type": "code",
      "execution_count": 19,
      "metadata": {
        "id": "clpaya39D3SI"
      },
      "outputs": [],
      "source": [
        "# アルゴリズムの選択\n",
        "from sklearn.decomposition import PCA\n",
        "\n",
        "# モデル生成\n",
        "# 散布図表示が目的のため2次元に圧縮\n",
        "pca = PCA(n_components=2)"
      ]
    },
    {
      "cell_type": "code",
      "execution_count": 20,
      "metadata": {
        "id": "obiGfHi0D3SK",
        "colab": {
          "base_uri": "https://localhost:8080/"
        },
        "outputId": "c5ba3818-bebe-4727-c857-66fd20f1a3d2"
      },
      "outputs": [
        {
          "output_type": "stream",
          "name": "stdout",
          "text": [
            "[[  650.0221  1585.5191]\n",
            " [-4426.805   4042.4515]\n",
            " [-4841.9987  2578.7622]\n",
            " [  990.3464 -6279.806 ]\n",
            " [10657.9987 -2159.7258]]\n"
          ]
        }
      ],
      "source": [
        "# 学習・変換の実施\n",
        "d2 = pca.fit_transform(df2)\n",
        "\n",
        "# 結果の一部表示\n",
        "print(d2[:5,:])"
      ]
    },
    {
      "cell_type": "markdown",
      "metadata": {
        "id": "9O5StcBGD3SM"
      },
      "source": [
        "### 5.5.8 次元圧縮の活用方法"
      ]
    },
    {
      "cell_type": "markdown",
      "metadata": {
        "id": "ceborIy5D3SM"
      },
      "source": [
        "#### 散布図表示"
      ]
    },
    {
      "cell_type": "code",
      "execution_count": 21,
      "metadata": {
        "id": "DFOj2JT-D3SN",
        "colab": {
          "base_uri": "https://localhost:8080/",
          "height": 680
        },
        "outputId": "65a11cf8-8a7c-44d9-f204-82e5388bd3e7"
      },
      "outputs": [
        {
          "output_type": "display_data",
          "data": {
            "text/plain": [
              "<Figure size 800x800 with 1 Axes>"
            ],
            "image/png": "[encoded data removed]"
          },
          "metadata": {}
        }
      ],
      "source": [
        "# グループごとに色分けし散布図表示\n",
        "\n",
        "plt.figure(figsize=(8,8))\n",
        "marks = ['.', 'x', '*', '+']\n",
        "labels = ['生鮮', '食品', '大量', '少量']\n",
        "colors = ['grey', 'lightblue', 'blue', 'black']\n",
        "for i in range(clusters):\n",
        "  plt.scatter(d2[y_pred==i][:,0], d2[y_pred==i][:,1],\n",
        "    marker=marks[i], label=labels[i], s=100, c=colors[i])\n",
        "plt.legend(fontsize=14)\n",
        "plt.show()"
      ]
    },
    {
      "cell_type": "markdown",
      "metadata": {
        "id": "xSroAT7PD3SP"
      },
      "source": [
        "#### 例外値の調査"
      ]
    },
    {
      "cell_type": "code",
      "execution_count": 22,
      "metadata": {
        "id": "ygbDqd_lD3SQ",
        "colab": {
          "base_uri": "https://localhost:8080/",
          "height": 80
        },
        "outputId": "03ccf86c-8905-416b-fb3d-b2518ca9e1c1"
      },
      "outputs": [
        {
          "output_type": "display_data",
          "data": {
            "text/plain": [
              "     販売チャネル  地域    生鮮食品    乳製品    食料品   冷凍食品  洗剤_紙製品    総菜\n",
              "181       1   3  112151  29627  18148  16745    4948  8550"
            ],
            "text/html": [
              "<div>\n",
              "<style scoped>\n",
              "    .dataframe tbody tr th:only-of-type {\n",
              "        vertical-align: middle;\n",
              "    }\n",
              "\n",
              "    .dataframe tbody tr th {\n",
              "        vertical-align: top;\n",
              "    }\n",
              "\n",
              "    .dataframe thead th {\n",
              "        text-align: right;\n",
              "    }\n",
              "</style>\n",
              "<table border=\"1\" class=\"dataframe\">\n",
              "  <thead>\n",
              "    <tr style=\"text-align: right;\">\n",
              "      <th></th>\n",
              "      <th>販売チャネル</th>\n",
              "      <th>地域</th>\n",
              "      <th>生鮮食品</th>\n",
              "      <th>乳製品</th>\n",
              "      <th>食料品</th>\n",
              "      <th>冷凍食品</th>\n",
              "      <th>洗剤_紙製品</th>\n",
              "      <th>総菜</th>\n",
              "    </tr>\n",
              "  </thead>\n",
              "  <tbody>\n",
              "    <tr>\n",
              "      <th>181</th>\n",
              "      <td>1</td>\n",
              "      <td>3</td>\n",
              "      <td>112151</td>\n",
              "      <td>29627</td>\n",
              "      <td>18148</td>\n",
              "      <td>16745</td>\n",
              "      <td>4948</td>\n",
              "      <td>8550</td>\n",
              "    </tr>\n",
              "  </tbody>\n",
              "</table>\n",
              "</div>"
            ]
          },
          "metadata": {}
        }
      ],
      "source": [
        "# 生鮮グループの例外値を調べる\n",
        "display(df[d2[:,0] > 100000])"
      ]
    },
    {
      "cell_type": "markdown",
      "metadata": {
        "id": "S7SvVzFBD3SR"
      },
      "source": [
        "【考察】  \n",
        "インデックス181の顧客は、特に生鮮食品の購買量が多いと考えられる"
      ]
    },
    {
      "cell_type": "code",
      "execution_count": 23,
      "metadata": {
        "id": "1aNy2yJVD3SS",
        "colab": {
          "base_uri": "https://localhost:8080/",
          "height": 80
        },
        "outputId": "9d9936ab-6042-4b36-ca48-5123acc98cba"
      },
      "outputs": [
        {
          "output_type": "display_data",
          "data": {
            "text/plain": [
              "    販売チャネル  地域   生鮮食品    乳製品    食料品  冷凍食品  洗剤_紙製品    総菜\n",
              "85       2   3  16117  46197  92780  1026   40827  2944"
            ],
            "text/html": [
              "<div>\n",
              "<style scoped>\n",
              "    .dataframe tbody tr th:only-of-type {\n",
              "        vertical-align: middle;\n",
              "    }\n",
              "\n",
              "    .dataframe tbody tr th {\n",
              "        vertical-align: top;\n",
              "    }\n",
              "\n",
              "    .dataframe thead th {\n",
              "        text-align: right;\n",
              "    }\n",
              "</style>\n",
              "<table border=\"1\" class=\"dataframe\">\n",
              "  <thead>\n",
              "    <tr style=\"text-align: right;\">\n",
              "      <th></th>\n",
              "      <th>販売チャネル</th>\n",
              "      <th>地域</th>\n",
              "      <th>生鮮食品</th>\n",
              "      <th>乳製品</th>\n",
              "      <th>食料品</th>\n",
              "      <th>冷凍食品</th>\n",
              "      <th>洗剤_紙製品</th>\n",
              "      <th>総菜</th>\n",
              "    </tr>\n",
              "  </thead>\n",
              "  <tbody>\n",
              "    <tr>\n",
              "      <th>85</th>\n",
              "      <td>2</td>\n",
              "      <td>3</td>\n",
              "      <td>16117</td>\n",
              "      <td>46197</td>\n",
              "      <td>92780</td>\n",
              "      <td>1026</td>\n",
              "      <td>40827</td>\n",
              "      <td>2944</td>\n",
              "    </tr>\n",
              "  </tbody>\n",
              "</table>\n",
              "</div>"
            ]
          },
          "metadata": {}
        }
      ],
      "source": [
        "# 大量グループの例外値を調べる\n",
        "display(df[d2[:,1] > 80000])"
      ]
    },
    {
      "cell_type": "markdown",
      "metadata": {
        "id": "J6jV6-4HD3SU"
      },
      "source": [
        "【考察】  \n",
        "インデックス85の顧客は、特に食料品と洗剤・紙製品の購買量が多いと考えられる"
      ]
    },
    {
      "cell_type": "code",
      "execution_count": 24,
      "metadata": {
        "id": "zgOgOJfhD3SU",
        "colab": {
          "base_uri": "https://localhost:8080/",
          "height": 300
        },
        "outputId": "2ee5f05e-88cd-42b0-8311-b037390c3508"
      },
      "outputs": [
        {
          "output_type": "display_data",
          "data": {
            "text/plain": [
              "             生鮮食品        乳製品        食料品       冷凍食品     洗剤_紙製品         総菜\n",
              "count    440.0000   440.0000   440.0000   440.0000   440.0000   440.0000\n",
              "mean   12000.2977  5796.2659  7951.2773  3071.9318  2881.4932  1524.8705\n",
              "std    12647.3289  7380.3772  9503.1628  4854.6733  4767.8544  2820.1059\n",
              "min        3.0000    55.0000     3.0000    25.0000     3.0000     3.0000\n",
              "25%     3127.7500  1533.0000  2153.0000   742.2500   256.7500   408.2500\n",
              "50%     8504.0000  3627.0000  4755.5000  1526.0000   816.5000   965.5000\n",
              "75%    16933.7500  7190.2500 10655.7500  3554.2500  3922.0000  1820.2500\n",
              "max   112151.0000 73498.0000 92780.0000 60869.0000 40827.0000 47943.0000"
            ],
            "text/html": [
              "<div>\n",
              "<style scoped>\n",
              "    .dataframe tbody tr th:only-of-type {\n",
              "        vertical-align: middle;\n",
              "    }\n",
              "\n",
              "    .dataframe tbody tr th {\n",
              "        vertical-align: top;\n",
              "    }\n",
              "\n",
              "    .dataframe thead th {\n",
              "        text-align: right;\n",
              "    }\n",
              "</style>\n",
              "<table border=\"1\" class=\"dataframe\">\n",
              "  <thead>\n",
              "    <tr style=\"text-align: right;\">\n",
              "      <th></th>\n",
              "      <th>生鮮食品</th>\n",
              "      <th>乳製品</th>\n",
              "      <th>食料品</th>\n",
              "      <th>冷凍食品</th>\n",
              "      <th>洗剤_紙製品</th>\n",
              "      <th>総菜</th>\n",
              "    </tr>\n",
              "  </thead>\n",
              "  <tbody>\n",
              "    <tr>\n",
              "      <th>count</th>\n",
              "      <td>440.0000</td>\n",
              "      <td>440.0000</td>\n",
              "      <td>440.0000</td>\n",
              "      <td>440.0000</td>\n",
              "      <td>440.0000</td>\n",
              "      <td>440.0000</td>\n",
              "    </tr>\n",
              "    <tr>\n",
              "      <th>mean</th>\n",
              "      <td>12000.2977</td>\n",
              "      <td>5796.2659</td>\n",
              "      <td>7951.2773</td>\n",
              "      <td>3071.9318</td>\n",
              "      <td>2881.4932</td>\n",
              "      <td>1524.8705</td>\n",
              "    </tr>\n",
              "    <tr>\n",
              "      <th>std</th>\n",
              "      <td>12647.3289</td>\n",
              "      <td>7380.3772</td>\n",
              "      <td>9503.1628</td>\n",
              "      <td>4854.6733</td>\n",
              "      <td>4767.8544</td>\n",
              "      <td>2820.1059</td>\n",
              "    </tr>\n",
              "    <tr>\n",
              "      <th>min</th>\n",
              "      <td>3.0000</td>\n",
              "      <td>55.0000</td>\n",
              "      <td>3.0000</td>\n",
              "      <td>25.0000</td>\n",
              "      <td>3.0000</td>\n",
              "      <td>3.0000</td>\n",
              "    </tr>\n",
              "    <tr>\n",
              "      <th>25%</th>\n",
              "      <td>3127.7500</td>\n",
              "      <td>1533.0000</td>\n",
              "      <td>2153.0000</td>\n",
              "      <td>742.2500</td>\n",
              "      <td>256.7500</td>\n",
              "      <td>408.2500</td>\n",
              "    </tr>\n",
              "    <tr>\n",
              "      <th>50%</th>\n",
              "      <td>8504.0000</td>\n",
              "      <td>3627.0000</td>\n",
              "      <td>4755.5000</td>\n",
              "      <td>1526.0000</td>\n",
              "      <td>816.5000</td>\n",
              "      <td>965.5000</td>\n",
              "    </tr>\n",
              "    <tr>\n",
              "      <th>75%</th>\n",
              "      <td>16933.7500</td>\n",
              "      <td>7190.2500</td>\n",
              "      <td>10655.7500</td>\n",
              "      <td>3554.2500</td>\n",
              "      <td>3922.0000</td>\n",
              "      <td>1820.2500</td>\n",
              "    </tr>\n",
              "    <tr>\n",
              "      <th>max</th>\n",
              "      <td>112151.0000</td>\n",
              "      <td>73498.0000</td>\n",
              "      <td>92780.0000</td>\n",
              "      <td>60869.0000</td>\n",
              "      <td>40827.0000</td>\n",
              "      <td>47943.0000</td>\n",
              "    </tr>\n",
              "  </tbody>\n",
              "</table>\n",
              "</div>"
            ]
          },
          "metadata": {}
        }
      ],
      "source": [
        "# 統計情報確認\n",
        "display(df2.describe())"
      ]
    },
    {
      "cell_type": "code",
      "execution_count": 25,
      "metadata": {
        "id": "U6zUEK9PD3SW"
      },
      "outputs": [],
      "source": [
        "### バージョン確認"
      ]
    },
    {
      "cell_type": "code",
      "source": [
        "import sys\n",
        "!pip install watermark | tail -n 1\n",
        "%load_ext watermark\n",
        "%watermark --iversions"
      ],
      "metadata": {
        "colab": {
          "base_uri": "https://localhost:8080/"
        },
        "id": "R5UJVr8By0kS",
        "outputId": "a6a89620-fdb6-42ee-e495-a1b0adbf1d31"
      },
      "execution_count": 27,
      "outputs": [
        {
          "output_type": "stream",
          "name": "stdout",
          "text": [
            "Requirement already satisfied: six in /usr/local_py38/lib/python3.8/site-packages (from asttokens->stack-data->ipython>=6.0->watermark) (1.14.0)\n",
            "The watermark extension is already loaded. To reload it, use:\n",
            "  %reload_ext watermark\n",
            "sys                : 3.8.18 (default, Sep 11 2023, 13:20:55) \n",
            "[GCC 11.2.0]\n",
            "numpy              : 1.22.3\n",
            "matplotlib         : 3.7.2\n",
            "japanize_matplotlib: 1.1.3\n",
            "sklearn            : 0.23.1\n",
            "pandas             : 1.3.5\n",
            "\n"
          ]
        }
      ]
    },
    {
      "cell_type": "code",
      "source": [],
      "metadata": {
        "id": "yoKZryI3y6Aj"
      },
      "execution_count": null,
      "outputs": []
    }
  ],
  "metadata": {
    "colab": {
      "provenance": [],
      "toc_visible": true
    },
    "kernelspec": {
      "display_name": "py38",
      "name": "py38"
    }
  },
  "nbformat": 4,
  "nbformat_minor": 0
}