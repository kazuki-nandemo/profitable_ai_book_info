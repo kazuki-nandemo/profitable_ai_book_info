{
  "nbformat": 4,
  "nbformat_minor": 0,
  "metadata": {
    "colab": {
      "provenance": [],
      "collapsed_sections": [],
      "toc_visible": true
    },
    "kernelspec": {
      "name": "python3",
      "display_name": "Python 3"
    },
    "language_info": {
      "name": "python"
    }
  },
  "cells": [
    {
      "cell_type": "markdown",
      "metadata": {
        "id": "Xkb4NrzTNcwb"
      },
      "source": [
        "# Prophetでコロナ陽性者予測をしよう"
      ]
    },
    {
      "cell_type": "markdown",
      "metadata": {
        "id": "VqGE48cLNsB6"
      },
      "source": [
        "## ライブラリの導入とインポート・初期設定\n"
      ]
    },
    {
      "cell_type": "code",
      "metadata": {
        "id": "DGGILUSjNYTp"
      },
      "source": [
        "# 日本語化ライブラリ導入\n",
        "!pip install japanize-matplotlib | tail -n 1"
      ],
      "execution_count": null,
      "outputs": []
    },
    {
      "cell_type": "code",
      "metadata": {
        "id": "H6JuyYY6NkBS"
      },
      "source": [
        "# 余分なワーニングを非表示にする\n",
        "import warnings\n",
        "warnings.filterwarnings('ignore')\n",
        "\n",
        "# 必要ライブラリのimport\n",
        "import pandas as pd\n",
        "import numpy as np\n",
        "import matplotlib.pyplot as plt\n",
        "\n",
        "# matplotlib日本語化対応\n",
        "import japanize_matplotlib\n",
        "\n",
        "# データフレーム表示用関数\n",
        "from IPython.display import display\n",
        "\n",
        "# 表示オプション調整\n",
        "# numpyの浮動小数点の表示精度\n",
        "np.set_printoptions(suppress=True, precision=4)\n",
        "\n",
        "# pandasでの浮動小数点の表示精度\n",
        "pd.options.display.float_format = '{:.4f}'.format\n",
        "\n",
        "# データフレームですべての項目を表示\n",
        "pd.set_option(\"display.max_columns\",None)\n",
        "\n",
        "# グラフのデフォルトフォント指定\n",
        "plt.rcParams[\"font.size\"] = 14\n",
        "\n",
        "# 乱数の種\n",
        "random_seed = 123"
      ],
      "execution_count": null,
      "outputs": []
    },
    {
      "cell_type": "markdown",
      "metadata": {
        "id": "buhoSHPJN9ph"
      },
      "source": [
        "## データの取得"
      ]
    },
    {
      "cell_type": "markdown",
      "metadata": {
        "id": "sNleBUYdOCqf"
      },
      "source": [
        "### 日別陽性者数データ"
      ]
    },
    {
      "cell_type": "code",
      "metadata": {
        "id": "ZFRYLkTJN0wY"
      },
      "source": [
        "# 厚生労働省の公開データ\n",
        "url = 'https://covid19.mhlw.go.jp/public/opendata/newly_confirmed_cases_daily.csv'\n",
        "\n",
        "# データ読み込み\n",
        "df = pd.read_csv(url, parse_dates=[0])\n",
        "\n",
        "# 結果確認\n",
        "display(df.head())"
      ],
      "execution_count": null,
      "outputs": []
    },
    {
      "cell_type": "markdown",
      "metadata": {
        "id": "LBsi7O9jOY5S"
      },
      "source": [
        "## データ加工"
      ]
    },
    {
      "cell_type": "code",
      "metadata": {
        "id": "hEzGXeovOMaN"
      },
      "source": [
        "# 東京都で絞り込み\n",
        "df3 = df[[\"Date\", \"Tokyo\"]]\n",
        "\n",
        "# 列名変更\n",
        "df3.columns = ['ds', 'y']\n",
        "\n",
        "# 結果確認\n",
        "display(df3.tail())"
      ],
      "execution_count": null,
      "outputs": []
    },
    {
      "cell_type": "markdown",
      "metadata": {
        "id": "l6LnOW4JOjfC"
      },
      "source": [
        "## 時系列グラフ表示"
      ]
    },
    {
      "cell_type": "code",
      "metadata": {
        "id": "NXydDk3pOepE"
      },
      "source": [
        "# 時系列グラフの描画 \n",
        "import matplotlib.dates as mdates\n",
        "fig, ax = plt.subplots(figsize=(10, 5))\n",
        "\n",
        "# グラフ描画\n",
        "ax.plot(df3['ds'], df3['y'])\n",
        "\n",
        "# 日付目盛間隔\n",
        "# 木曜日ごとに目盛りを表示\n",
        "#weeks = mdates.WeekdayLocator(byweekday=mdates.TH)\n",
        "# 月ごとに目盛りを表示\n",
        "months = mdates.MonthLocator()\n",
        "ax.xaxis.set_major_locator(months)\n",
        "\n",
        "# 日付表記を90度回転\n",
        "ax.tick_params(axis='x', rotation=90)\n",
        "\n",
        "# 方眼表示など\n",
        "ax.grid()\n",
        "ax.set_title('東京都コロナ陽性者数')\n",
        "\n",
        "# 画面出力\n",
        "plt.show()"
      ],
      "execution_count": null,
      "outputs": []
    },
    {
      "cell_type": "markdown",
      "metadata": {
        "id": "lYUCvRptOxUd"
      },
      "source": [
        "## モデル構築、学習から予測まで\n",
        "\n",
        "下の条件で、モデルを作ってみます。\n",
        "\n",
        "* 最終日の14日前を基準日に、訓練データと検証データを分割する\n",
        "* 二週間先（つまり昨日）までの予測をする\n",
        "* 結果をグラフ表示する\n"
      ]
    },
    {
      "cell_type": "markdown",
      "metadata": {
        "id": "_txvutGgPN-G"
      },
      "source": [
        "### 訓練データ・検証データの分割"
      ]
    },
    {
      "cell_type": "code",
      "metadata": {
        "id": "zi5eXcX8PYVV"
      },
      "source": [
        "import pandas.tseries.offsets as offsets\n",
        "\n",
        "# 分割日 mdayの設定 (最終日から14日前)\n",
        "mday = df3['ds'].iloc[-1] - offsets.Day(14)\n",
        "\n",
        "# 訓練用indexと検証用indexを作る\n",
        "train_index = df3['ds'] <= mday\n",
        "test_index = df3['ds'] > mday\n",
        "\n",
        "# 入力データの分割\n",
        "x_train = df3[train_index]\n",
        "x_test = df3[test_index]\n",
        "\n",
        "# 日付データの分割(グラフ表示用)\n",
        "dates_test = df3['ds'][test_index]"
      ],
      "execution_count": null,
      "outputs": []
    },
    {
      "cell_type": "markdown",
      "metadata": {
        "id": "9ZANGEaMQf1z"
      },
      "source": [
        "### モデルの生成・学習"
      ]
    },
    {
      "cell_type": "code",
      "metadata": {
        "id": "8_9rgcXuP5ex"
      },
      "source": [
        "# ライブラリのimport\n",
        "#from fbprophet import Prophet\n",
        "from prophet import Prophet\n",
        "\n",
        "# モデルインスタンス生成\n",
        "m1 = Prophet(yearly_seasonality=False, weekly_seasonality=True, \n",
        "    daily_seasonality=False,\n",
        "    seasonality_mode='multiplicative')\n",
        "\n",
        "# 学習\n",
        "m1.fit(x_train)"
      ],
      "execution_count": null,
      "outputs": []
    },
    {
      "cell_type": "markdown",
      "metadata": {
        "id": "PWCHsJQ9Qtd6"
      },
      "source": [
        "### 予測と結果のグラフ化"
      ]
    },
    {
      "cell_type": "code",
      "metadata": {
        "id": "HFOIyNpvQi7_"
      },
      "source": [
        "# 予測用データの作成\n",
        "future1 = m1.make_future_dataframe(periods=14, freq='D')\n",
        "\n",
        "# 予測\n",
        "# 結果はデータフレームで戻ってくる\n",
        "fcst1 = m1.predict(future1)"
      ],
      "execution_count": null,
      "outputs": []
    },
    {
      "cell_type": "code",
      "metadata": {
        "id": "XOpR_DOdQ-PK"
      },
      "source": [
        "# 訓練データ・検証データ全体のグラフ化\n",
        "fig, ax = plt.subplots(figsize=(10,6))\n",
        "\n",
        "# 予測結果のグラフ表示(prophetの関数)\n",
        "m1.plot(fcst1, ax=ax)\n",
        "months = mdates.MonthLocator()\n",
        "ax.xaxis.set_major_locator(months)\n",
        "\n",
        "# 日付表記を90度回転\n",
        "ax.tick_params(axis='x', rotation=90)\n",
        "\n",
        "# タイトル設定など\n",
        "ax.set_title('陽性者数予測')\n",
        "ax.set_xlabel('日付')\n",
        "ax.set_ylabel('陽性者数')\n",
        "\n",
        "# グラフ表示\n",
        "plt.show()"
      ],
      "execution_count": null,
      "outputs": []
    },
    {
      "cell_type": "markdown",
      "metadata": {
        "id": "xUKI7KWCRIzy"
      },
      "source": [
        "予測の精度を議論する以前に、直近の予測値が感染爆発を起こしている実測値を表現できていないことがわかります。このままでは、正しく予測することは難しそうです。"
      ]
    },
    {
      "cell_type": "markdown",
      "metadata": {
        "id": "WSzX5S5kRNu-"
      },
      "source": [
        "## チューニング"
      ]
    },
    {
      "cell_type": "code",
      "metadata": {
        "id": "VjVsBhOeSfuS"
      },
      "source": [
        "df4 = df3.query('ds >\"2021-06-14\"')"
      ],
      "execution_count": null,
      "outputs": []
    },
    {
      "cell_type": "code",
      "metadata": {
        "id": "8mhR218HSiYS"
      },
      "source": [
        "display(df4.head())"
      ],
      "execution_count": null,
      "outputs": []
    },
    {
      "cell_type": "code",
      "metadata": {
        "id": "swmunCL-RA7z"
      },
      "source": [
        "# 分割日 mdayの設定 (最終日から14日前)\n",
        "mday = df3['ds'].iloc[-1] - offsets.Day(14)\n",
        "\n",
        "# 訓練用indexと検証用indexを作る\n",
        "train_index = df4['ds'] <= mday\n",
        "test_index = df4['ds'] > mday\n",
        "\n",
        "# 入力データの分割\n",
        "x_train = df4[train_index]\n",
        "x_test = df4[test_index]\n",
        "\n",
        "# 日付データの分割(グラフ表示用)\n",
        "dates_test = df4['ds'][test_index]"
      ],
      "execution_count": null,
      "outputs": []
    },
    {
      "cell_type": "code",
      "metadata": {
        "id": "kfdHXS3vRRXE"
      },
      "source": [
        "# モデルインスタンス生成\n",
        "m2 = Prophet(yearly_seasonality=False, weekly_seasonality=True, \n",
        "    daily_seasonality=False,\n",
        "    seasonality_mode='multiplicative')\n",
        "\n",
        "# 学習\n",
        "m2.fit(x_train)\n",
        "\n",
        "# 予測用データの作成\n",
        "future2 = m2.make_future_dataframe(periods=14, freq='D')"
      ],
      "execution_count": null,
      "outputs": []
    },
    {
      "cell_type": "code",
      "metadata": {
        "id": "UAQKstAjSzUs"
      },
      "source": [
        "# 予測\n",
        "# 結果はデータフレームで戻ってくる\n",
        "fcst2 = m2.predict(future2)\n",
        "\n",
        "# 訓練データ・検証データ全体のグラフ化\n",
        "fig, ax = plt.subplots(figsize=(10,6))\n",
        "\n",
        "# 予測結果のグラフ表示(prophetの関数)\n",
        "m2.plot(fcst2, ax=ax)\n",
        "weeks = mdates.WeekdayLocator(byweekday=mdates.TH)\n",
        "ax.xaxis.set_major_locator(weeks)\n",
        "\n",
        "# 日付表記を90度回転\n",
        "ax.tick_params(axis='x', rotation=90)\n",
        "\n",
        "# タイトル設定など\n",
        "ax.set_title('陽性者数予測')\n",
        "ax.set_xlabel('日付')\n",
        "ax.set_ylabel('陽性者数')\n",
        "\n",
        "# グラフ表示\n",
        "plt.show()"
      ],
      "execution_count": null,
      "outputs": []
    },
    {
      "cell_type": "code",
      "metadata": {
        "id": "1cDI2I7FS29D"
      },
      "source": [
        "# ypred2: fcst1から予測部分のみ抽出する\n",
        "ypred2 = fcst2[-14:][['yhat']].values\n",
        "\n",
        "# ytest1: 予測期間中の正解データ\n",
        "ytest2 = x_test['y'].values"
      ],
      "execution_count": null,
      "outputs": []
    },
    {
      "cell_type": "code",
      "metadata": {
        "id": "x8lss3tUS-Ln"
      },
      "source": [
        "# 時系列グラフの描画 \n",
        "import matplotlib.dates as mdates\n",
        "fig, ax = plt.subplots(figsize=(8, 4))\n",
        "\n",
        "# グラフ描画\n",
        "ax.plot(dates_test, ytest2, label='正解データ', c='k')\n",
        "ax.plot(dates_test, ypred2, label='予測結果', c='b')\n",
        "\n",
        "# 日付目盛間隔\n",
        "# 木曜日ごとに日付を表示\n",
        "weeks = mdates.WeekdayLocator(byweekday=mdates.TH)\n",
        "ax.xaxis.set_major_locator(weeks)\n",
        "\n",
        "# 日付表記を90度回転\n",
        "ax.tick_params(axis='x', rotation=90)\n",
        "\n",
        "# 方眼表示など\n",
        "ax.grid()\n",
        "ax.legend()\n",
        "ax.set_title('コロナ陽性者数予測')\n",
        "\n",
        "# 画面出力\n",
        "plt.show()"
      ],
      "execution_count": null,
      "outputs": []
    },
    {
      "cell_type": "markdown",
      "metadata": {
        "id": "UmxJ6RYCVYrf"
      },
      "source": [
        "## おまけ"
      ]
    },
    {
      "cell_type": "code",
      "metadata": {
        "id": "pVRQCtSCTDEk"
      },
      "source": [
        "# 祝日データ取得\n",
        "url2 = 'https://raw.githubusercontent.com/holiday-jp/holiday_jp/master/holidays.yml'\n",
        "df5 = pd.read_csv(url2, sep=':\\s+', parse_dates=[0],names=['日付','祝日名'])\n",
        "df5 = df5[1:]"
      ],
      "execution_count": null,
      "outputs": []
    },
    {
      "cell_type": "code",
      "metadata": {
        "id": "v5uFbiFZVdsB"
      },
      "source": [
        "display(df5.head())\n",
        "display(df5.tail())"
      ],
      "execution_count": null,
      "outputs": []
    },
    {
      "cell_type": "code",
      "metadata": {
        "id": "VVlO4G4sVsvP"
      },
      "source": [
        "# 2020-2021に絞り込み\n",
        "df5 = df5.query('日付>\"2019-12-31\" & 日付<\"2021-12-31\"')"
      ],
      "execution_count": null,
      "outputs": []
    },
    {
      "cell_type": "code",
      "metadata": {
        "id": "--RZzYStVzJo"
      },
      "source": [
        "display(df5.head())\n",
        "display(df5.tail())"
      ],
      "execution_count": null,
      "outputs": []
    },
    {
      "cell_type": "code",
      "metadata": {
        "id": "OJ7jrKuHV2pa"
      },
      "source": [],
      "execution_count": null,
      "outputs": []
    }
  ]
}